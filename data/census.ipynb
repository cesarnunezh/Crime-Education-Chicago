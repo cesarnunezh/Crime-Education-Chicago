{
 "cells": [
  {
   "cell_type": "code",
   "execution_count": 7,
   "metadata": {},
   "outputs": [
    {
     "name": "stdout",
     "output_type": "stream",
     "text": [
      "  STATE SEX   PUMA RACBLK AGEP HISP FHISP PWGTP SCH\n",
      "0    34   2  02501      0   94   01     0    69   1\n",
      "1    34   1  00603      0   18   01     0    42   3\n",
      "2    08   1  01703      0   75   02     0    18   1\n",
      "3    12   1  09911      1   44   01     0    24   1\n",
      "4    39   1  00602      1   31   01     0    49   1\n"
     ]
    }
   ],
   "source": [
    "import requests\n",
    "import pandas as pd\n",
    "\n",
    "# Define the API endpoint\n",
    "url = \"https://api.census.gov/data/2023/acs/acs1/pums?get=STATE,SEX,PUMA,RACBLK,AGEP,HISP,FHISP,PWGTP,SCH\"\n",
    "\n",
    "# Make the GET request\n",
    "response = requests.get(url)\n",
    "\n",
    "# Check if request was successful\n",
    "if response.status_code == 200:\n",
    "    data = response.json()  # Convert JSON response to Python list\n",
    "else:\n",
    "    print(\"Failed to fetch data:\", response.status_code)\n",
    "    data = None\n",
    "\n",
    "# Convert to DataFrame if data is available\n",
    "if data:\n",
    "    df = pd.DataFrame(data[1:], columns=data[0])  # First row is headers\n",
    "    print(df.head())  # Print the first few rows for a quick look\n",
    "else:\n",
    "    print(\"No data available\")"
   ]
  },
  {
   "cell_type": "markdown",
   "metadata": {},
   "source": [
    "# VARIABLE LABELS\n",
    "\n",
    "https://api.census.gov/data/2023/acs/acs1/pums/variables.json\n",
    "\n",
    "STATE = 17 IL\n",
    "PUMA = CHICAGO : \n",
    "## pumas: \n",
    "03151 Chicago City (Northwest)--Albany Park, Norwood Park, Forest Glen, North Park & O'Hare\n",
    "03152 Chicago City (North)--West Ridge, Lincoln Square & North Center\n",
    "03153 Chicago City (North)--Uptown, Edgewater & Rogers Park\n",
    "03154 Chicago City (North)--Lake View & Lincoln Park\n",
    "03155 Chicago City (Northwest)--Logan Square, Irving Park & Avondale\n",
    "03156 Chicago City (Northwest)--Portage Park, Dunning & Jefferson Park\n",
    "03157 Chicago City (West)--Belmont Cragin, Humboldt Park, Hermosa & Montclare\n",
    "03158 Chicago City (West)--Austin, North Lawndale & East/West Garfield Park\n",
    "03159 Chicago City (West)--West Town & Near West Side\n",
    "03160 Chicago City (Central)--Near North Side, Loop & Near South Side\n",
    "03161 Chicago City (South)--Hyde Park, Grand Boulevard, Woodlawn, Douglas & Kenwood\n",
    "03162 Chicago City (Southwest)--New City, Lower West Side, Bridgeport & McKinley Park\n",
    "03163 Chicago City (Southwest)--South Lawndale, Brighton Park & Gage Park\n",
    "03164 Chicago City (Southwest)--Ashburn, Garfield Ridge, West Lawn, Clearing & West Elsdon\n",
    "03165 Chicago City (South)--Chicago Lawn, Greater Grand Crossing & West Englewood/Englewood\n",
    "03166 Chicago City (Southwest)--Auburn Gresham, Washington Heights, Morgan Park & Beverly\n",
    "03167 Chicago City (South)--Roseland, Chatham, West Pullman, Calumet Heights & Avalon Park\n",
    "03168 Chicago City (South)--South Shore, South Chicago, East Side & South Deering \n",
    "\n",
    "SEX = \n",
    "RACBLK =\n",
    "AGEP =\n",
    "HISP =\n",
    "FHISP = \n",
    "HINCP = \"Household income (past 12 months, use ADJINC to adjust HINCP to constant dollars)\",\n",
    "ADJINC = \"Adjustment factor for income and earnings dollar amounts (6 implied decimal places)\"\n",
    "PWGTP = \"Person's Weight\"\n",
    "\n",
    "    \"SCH\": {\n",
    "      \"label\": \"School enrollment\",\n",
    "      \"predicateType\": \"int\",\n",
    "      \"group\": \"N/A\",\n",
    "      \"limit\": 0,\n",
    "      \"suggested-weight\": \"PWGTP\",\n",
    "      \"values\": {\n",
    "        \"item\": {\n",
    "          \"0\": \"N/A (less than 3 years old)\",\n",
    "          \"3\": \"Yes, private school or college or home school\",\n",
    "          \"1\": \"No, has not attended in the last 3 months\",\n",
    "          \"2\": \"Yes, public school or public college\"\n",
    "        }\n",
    "      }\n",
    "    },"
   ]
  },
  {
   "cell_type": "code",
   "execution_count": 8,
   "metadata": {},
   "outputs": [],
   "source": [
    "# Convert PUMA to numeric if it's not already\n",
    "df[\"PUMA\"] = pd.to_numeric(df[\"PUMA\"])\n",
    "\n",
    "# Filter for PUMA values between 03151 and 03168\n",
    "filtered_df = df[(df[\"PUMA\"] >= 3151) & (df[\"PUMA\"] <= 3168)]"
   ]
  },
  {
   "cell_type": "code",
   "execution_count": null,
   "metadata": {},
   "outputs": [],
   "source": [
    "filtered_df = df[(df[\"PUMA\"] >= 3151) & (df[\"PUMA\"] <= 3168)].copy()\n",
    "\n",
    "filtered_df[\"PWGTP\"] = pd.to_numeric(filtered_df[\"PWGTP\"])"
   ]
  },
  {
   "cell_type": "code",
   "execution_count": 14,
   "metadata": {},
   "outputs": [
    {
     "data": {
      "text/plain": [
       "np.int64(2664493)"
      ]
     },
     "execution_count": 14,
     "metadata": {},
     "output_type": "execute_result"
    }
   ],
   "source": [
    "total_population = filtered_df[\"PWGTP\"].sum() \n",
    "total_population"
   ]
  },
  {
   "cell_type": "code",
   "execution_count": null,
   "metadata": {},
   "outputs": [],
   "source": []
  }
 ],
 "metadata": {
  "kernelspec": {
   "display_name": "Python 3",
   "language": "python",
   "name": "python3"
  },
  "language_info": {
   "codemirror_mode": {
    "name": "ipython",
    "version": 3
   },
   "file_extension": ".py",
   "mimetype": "text/x-python",
   "name": "python",
   "nbconvert_exporter": "python",
   "pygments_lexer": "ipython3",
   "version": "3.10.12"
  }
 },
 "nbformat": 4,
 "nbformat_minor": 2
}
